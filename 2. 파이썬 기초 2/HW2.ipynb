{
 "cells": [
  {
   "cell_type": "markdown",
   "id": "2edca501",
   "metadata": {},
   "source": [
    "# 파이썬 프로그래밍 기초 실습 2\n",
    "\n",
    "## 연습문제"
   ]
  },
  {
   "cell_type": "markdown",
   "id": "176e45fd",
   "metadata": {},
   "source": [
    "### 1. 조건문(if)\n",
    "문제1)"
   ]
  },
  {
   "cell_type": "code",
   "execution_count": 7,
   "id": "850a729c",
   "metadata": {},
   "outputs": [
    {
     "name": "stdout",
     "output_type": "stream",
     "text": [
      "Enter a number: 14\n",
      "14 is Even number\n"
     ]
    }
   ],
   "source": [
    "number = input('Enter a number: ')\n",
    "z = int(number) % 2 \n",
    "if (z == 1) :\n",
    "    print(number + ' is Odd number')\n",
    "elif (z == 0) :\n",
    "    print(number + ' is Even number')\n",
    "else :\n",
    "    print(number + ' is 0')"
   ]
  },
  {
   "cell_type": "markdown",
   "id": "69db8df9",
   "metadata": {},
   "source": [
    "문제2)"
   ]
  },
  {
   "cell_type": "code",
   "execution_count": 13,
   "id": "21c4e889",
   "metadata": {},
   "outputs": [
    {
     "name": "stdout",
     "output_type": "stream",
     "text": [
      "Enter your midterm score: 77\n",
      "Enter your final score: 56\n",
      "Average: 66.5\n",
      "D\n"
     ]
    }
   ],
   "source": [
    "x = int(input('Enter your midterm score: '))\n",
    "y = int(input('Enter your final score: '))\n",
    "z = (x + y) / 2\n",
    "print('Average: '+ str(z))\n",
    "if z >= 90 :\n",
    "    print('A')\n",
    "elif z >= 80 and z < 90 :\n",
    "    print('B')\n",
    "elif z >= 70 and z < 80 :\n",
    "    print('C')\n",
    "elif z >= 60 and z < 70 :\n",
    "    print('D')\n",
    "else : \n",
    "    print('F')"
   ]
  },
  {
   "cell_type": "markdown",
   "id": "71ff8e0e",
   "metadata": {},
   "source": [
    "문제3)"
   ]
  },
  {
   "cell_type": "code",
   "execution_count": null,
   "id": "3f496c5c",
   "metadata": {},
   "outputs": [],
   "source": [
    "x = int(input('영어 점수 입력: '))\n",
    "y = int(input('수학 점수 입력: '))\n",
    "if x + y > 110 :\n",
    "    if x<40 :\n",
    "        print('불합격: 총합 영어 점수 부족')\n",
    "    elif y<40 :\n",
    "        print('불합격: 총합 수학 점수 부족') \n",
    "    else:\n",
    "        print('합격') \n",
    "else:\n",
    "    if x < 40 and y < 40 :\n",
    "        print('불합격: 총합 점수 부족') "
   ]
  },
  {
   "cell_type": "markdown",
   "id": "66753e5d",
   "metadata": {},
   "source": [
    "문제4)"
   ]
  },
  {
   "cell_type": "code",
   "execution_count": null,
   "id": "75f1ba55",
   "metadata": {},
   "outputs": [],
   "source": [
    "x = input('세 개의 수를 입력하시오: ').split()\n",
    "def swap(a,b) :\n",
    "    c = a\n",
    "    a = b\n",
    "    b = c\n",
    "    return a,b\n",
    "\n",
    "if (x[0] < x[1]) :\n",
    "        x[0],x[1] = swap(x[0],x[1])\n",
    "if (x[0] < x[2]) :\n",
    "         x[0],x[2] =swap(x[0],x[2])\n",
    "print(x[0])"
   ]
  },
  {
   "cell_type": "markdown",
   "id": "08260d52",
   "metadata": {},
   "source": [
    "### 2. 반복문\n",
    "문제1)"
   ]
  },
  {
   "cell_type": "markdown",
   "id": "ed3810bf",
   "metadata": {},
   "source": [
    "(1)"
   ]
  },
  {
   "cell_type": "code",
   "execution_count": 14,
   "id": "73589290",
   "metadata": {},
   "outputs": [
    {
     "name": "stdout",
     "output_type": "stream",
     "text": [
      "p\n",
      "y\n",
      "t\n",
      "h\n",
      "o\n",
      "n\n"
     ]
    }
   ],
   "source": [
    "word = 'python'\n",
    "i = 0\n",
    "while(i<len(word)):\n",
    "    print(word[i])\n",
    "    i += 1"
   ]
  },
  {
   "cell_type": "markdown",
   "id": "aaa49ac2",
   "metadata": {},
   "source": [
    "(2)"
   ]
  },
  {
   "cell_type": "code",
   "execution_count": 21,
   "id": "75a7b8e1",
   "metadata": {},
   "outputs": [
    {
     "name": "stdout",
     "output_type": "stream",
     "text": [
      "p\n",
      "y\n",
      "t\n",
      "h\n",
      "o\n",
      "n\n"
     ]
    }
   ],
   "source": [
    "word = 'python'\n",
    "i = 0\n",
    "for i in list(word) :\n",
    "    print(i)"
   ]
  },
  {
   "cell_type": "markdown",
   "id": "44ede657",
   "metadata": {},
   "source": [
    "문제2"
   ]
  },
  {
   "cell_type": "code",
   "execution_count": 35,
   "id": "0d2943fe",
   "metadata": {},
   "outputs": [
    {
     "name": "stdout",
     "output_type": "stream",
     "text": [
      "10,9,8,7,6,5,4,3,2,1,Happy new year!!\n"
     ]
    }
   ],
   "source": [
    "x = list()\n",
    "for i in range(10,0,-1) :\n",
    "    x.append(i)\n",
    "x.append('Happy new year!!')\n",
    "j = 1\n",
    "for i in x :\n",
    "    if(j ==len(x)):\n",
    "        print(i)\n",
    "        break;\n",
    "    print(i,end=',')\n",
    "    j += 1"
   ]
  },
  {
   "cell_type": "markdown",
   "id": "bf0d08f0",
   "metadata": {},
   "source": [
    "문제3"
   ]
  },
  {
   "cell_type": "code",
   "execution_count": 41,
   "id": "131296f3",
   "metadata": {},
   "outputs": [
    {
     "name": "stdout",
     "output_type": "stream",
     "text": [
      "Enter two integers: 5 10\n",
      "The sum from 5 to 10 is 45\n"
     ]
    }
   ],
   "source": [
    "nums = input(\"Enter two integers: \")\n",
    "x,y = nums.split()\n",
    "i = 0\n",
    "sum = 0 \n",
    "for i in range(int(x),int(y)+1,1) :\n",
    "    sum+=i\n",
    "print('The sum from ' + x + ' to ' + y + ' is ' + str(sum))"
   ]
  },
  {
   "cell_type": "markdown",
   "id": "60f76f79",
   "metadata": {},
   "source": [
    "문제4"
   ]
  },
  {
   "cell_type": "code",
   "execution_count": 43,
   "id": "12e81f02",
   "metadata": {},
   "outputs": [
    {
     "name": "stdout",
     "output_type": "stream",
     "text": [
      "3\n"
     ]
    }
   ],
   "source": [
    "word = 'banana'\n",
    "cnt = 0\n",
    "for i in list(word) :\n",
    "    if i == 'a' :\n",
    "        cnt += 1\n",
    "print(cnt)"
   ]
  },
  {
   "cell_type": "markdown",
   "id": "4fcff0aa",
   "metadata": {},
   "source": [
    "문제5"
   ]
  },
  {
   "cell_type": "code",
   "execution_count": 67,
   "id": "b71bae2f",
   "metadata": {},
   "outputs": [
    {
     "name": "stdout",
     "output_type": "stream",
     "text": [
      "0 1 2 3 4 5 6 7 8 9\n",
      "0 5 10 15 20 25 30 35 40 45 50\n",
      "10 9 8 7 6 5 4 3 2 1\n"
     ]
    }
   ],
   "source": [
    "x = list(range(0,10,1))\n",
    "y = list(range(0,55,5))\n",
    "z = list(range(10,0,-1))\n",
    "j = 1\n",
    "for i in x :\n",
    "    if(j ==len(x)):\n",
    "        print(i)\n",
    "        break;\n",
    "    print(i,end=' ')\n",
    "    j += 1\n",
    "j = 1\n",
    "for i in y :\n",
    "    if(j ==len(x)+1):\n",
    "        print(i)\n",
    "        break;\n",
    "    print(i,end=' ')\n",
    "    j += 1\n",
    "j = 1   \n",
    "for i in z :\n",
    "    if(j ==len(x)):\n",
    "        print(i)\n",
    "        break;\n",
    "    print(i,end=' ')\n",
    "    j += 1"
   ]
  },
  {
   "cell_type": "markdown",
   "id": "b902de3d",
   "metadata": {},
   "source": [
    "문제6"
   ]
  },
  {
   "cell_type": "code",
   "execution_count": 70,
   "id": "f47a4e53",
   "metadata": {},
   "outputs": [
    {
     "name": "stdout",
     "output_type": "stream",
     "text": [
      "red\n",
      "green\n",
      "blue\n"
     ]
    }
   ],
   "source": [
    "colors = [\"red\", \"green\", \"blue\"]\n",
    "j = 1\n",
    "for i in colors :\n",
    "    print(i)\n",
    "    j += 1"
   ]
  },
  {
   "cell_type": "markdown",
   "id": "4aba7dae",
   "metadata": {},
   "source": [
    "문제7"
   ]
  },
  {
   "cell_type": "code",
   "execution_count": 74,
   "id": "df86b4a5",
   "metadata": {},
   "outputs": [
    {
     "name": "stdout",
     "output_type": "stream",
     "text": [
      "4 6 8 10 12 "
     ]
    }
   ],
   "source": [
    "a = [1, 3, 4, 5, 6, 7, 8, 9, 10, 11, 12, 13]\n",
    "for i in a :\n",
    "    if (i % 2 == 0) :\n",
    "        print(i,end=' ')"
   ]
  },
  {
   "cell_type": "markdown",
   "id": "96b5ecc3",
   "metadata": {},
   "source": [
    "문제8"
   ]
  },
  {
   "cell_type": "code",
   "execution_count": 75,
   "id": "b318c75a",
   "metadata": {},
   "outputs": [
    {
     "name": "stdout",
     "output_type": "stream",
     "text": [
      "출력하고 싶은 단을 입력하세요: 7\n",
      "7 * 1 = 7\n",
      "7 * 2 = 14\n",
      "7 * 3 = 21\n",
      "7 * 4 = 28\n",
      "7 * 5 = 35\n",
      "7 * 6 = 42\n",
      "7 * 7 = 49\n",
      "7 * 8 = 56\n",
      "7 * 9 = 63\n"
     ]
    }
   ],
   "source": [
    "x = int(input('출력하고 싶은 단을 입력하세요: '))\n",
    "for i in range(1,10) :\n",
    "    print (str(x) + ' * ' + str(i) + ' = ' +str(i*x))"
   ]
  },
  {
   "cell_type": "markdown",
   "id": "df8b0b4d",
   "metadata": {},
   "source": [
    "문제9"
   ]
  },
  {
   "cell_type": "code",
   "execution_count": 80,
   "id": "48f7f2d9",
   "metadata": {},
   "outputs": [
    {
     "name": "stdout",
     "output_type": "stream",
     "text": [
      "== 2단 ==\n",
      "2 * 1 = 2\n",
      "2 * 2 = 4\n",
      "2 * 3 = 6\n",
      "2 * 4 = 8\n",
      "2 * 5 = 10\n",
      "2 * 6 = 12\n",
      "2 * 7 = 14\n",
      "2 * 8 = 16\n",
      "2 * 9 = 18\n",
      "== 3단 ==\n",
      "3 * 1 = 3\n",
      "3 * 2 = 6\n",
      "3 * 3 = 9\n",
      "3 * 4 = 12\n",
      "3 * 5 = 15\n",
      "3 * 6 = 18\n",
      "3 * 7 = 21\n",
      "3 * 8 = 24\n",
      "3 * 9 = 27\n",
      "== 4단 ==\n",
      "4 * 1 = 4\n",
      "4 * 2 = 8\n",
      "4 * 3 = 12\n",
      "4 * 4 = 16\n",
      "4 * 5 = 20\n",
      "4 * 6 = 24\n",
      "4 * 7 = 28\n",
      "4 * 8 = 32\n",
      "4 * 9 = 36\n",
      "== 5단 ==\n",
      "5 * 1 = 5\n",
      "5 * 2 = 10\n",
      "5 * 3 = 15\n",
      "5 * 4 = 20\n",
      "5 * 5 = 25\n",
      "5 * 6 = 30\n",
      "5 * 7 = 35\n",
      "5 * 8 = 40\n",
      "5 * 9 = 45\n",
      "== 6단 ==\n",
      "6 * 1 = 6\n",
      "6 * 2 = 12\n",
      "6 * 3 = 18\n",
      "6 * 4 = 24\n",
      "6 * 5 = 30\n",
      "6 * 6 = 36\n",
      "6 * 7 = 42\n",
      "6 * 8 = 48\n",
      "6 * 9 = 54\n",
      "== 7단 ==\n",
      "7 * 1 = 7\n",
      "7 * 2 = 14\n",
      "7 * 3 = 21\n",
      "7 * 4 = 28\n",
      "7 * 5 = 35\n",
      "7 * 6 = 42\n",
      "7 * 7 = 49\n",
      "7 * 8 = 56\n",
      "7 * 9 = 63\n",
      "== 8단 ==\n",
      "8 * 1 = 8\n",
      "8 * 2 = 16\n",
      "8 * 3 = 24\n",
      "8 * 4 = 32\n",
      "8 * 5 = 40\n",
      "8 * 6 = 48\n",
      "8 * 7 = 56\n",
      "8 * 8 = 64\n",
      "8 * 9 = 72\n",
      "== 9단 ==\n",
      "9 * 1 = 9\n",
      "9 * 2 = 18\n",
      "9 * 3 = 27\n",
      "9 * 4 = 36\n",
      "9 * 5 = 45\n",
      "9 * 6 = 54\n",
      "9 * 7 = 63\n",
      "9 * 8 = 72\n",
      "9 * 9 = 81\n"
     ]
    }
   ],
   "source": [
    "for i in range (2,10):\n",
    "    print('== '+ str(i) +'단 ==')\n",
    "    for j in range(1,10) :\n",
    "        print (str(i) + ' * ' + str(j) + ' = ' +str(i*j))"
   ]
  },
  {
   "cell_type": "markdown",
   "id": "bc135506",
   "metadata": {},
   "source": [
    "문제10"
   ]
  },
  {
   "cell_type": "code",
   "execution_count": 3,
   "id": "95a47a69",
   "metadata": {
    "scrolled": true
   },
   "outputs": [
    {
     "name": "stdout",
     "output_type": "stream",
     "text": [
      "\n",
      "\n",
      "2 * 1 = 2 3 * 1 = 3 4 * 1 = 4 5 * 1 = 5 6 * 1 = 6 7 * 1 = 7 8 * 1 = 8 9 * 1 = 9 \n",
      "\n",
      "2 * 2 = 4 3 * 2 = 6 4 * 2 = 8 5 * 2 = 10 6 * 2 = 12 7 * 2 = 14 8 * 2 = 16 9 * 2 = 18 \n",
      "\n",
      "2 * 3 = 6 3 * 3 = 9 4 * 3 = 12 5 * 3 = 15 6 * 3 = 18 7 * 3 = 21 8 * 3 = 24 9 * 3 = 27 \n",
      "\n",
      "2 * 4 = 8 3 * 4 = 12 4 * 4 = 16 5 * 4 = 20 6 * 4 = 24 7 * 4 = 28 8 * 4 = 32 9 * 4 = 36 \n",
      "\n",
      "2 * 5 = 10 3 * 5 = 15 4 * 5 = 20 5 * 5 = 25 6 * 5 = 30 7 * 5 = 35 8 * 5 = 40 9 * 5 = 45 \n",
      "\n",
      "2 * 6 = 12 3 * 6 = 18 4 * 6 = 24 5 * 6 = 30 6 * 6 = 36 7 * 6 = 42 8 * 6 = 48 9 * 6 = 54 \n",
      "\n",
      "2 * 7 = 14 3 * 7 = 21 4 * 7 = 28 5 * 7 = 35 6 * 7 = 42 7 * 7 = 49 8 * 7 = 56 9 * 7 = 63 \n",
      "\n",
      "2 * 8 = 16 3 * 8 = 24 4 * 8 = 32 5 * 8 = 40 6 * 8 = 48 7 * 8 = 56 8 * 8 = 64 9 * 8 = 72 \n",
      "\n",
      "2 * 9 = 18 3 * 9 = 27 4 * 9 = 36 5 * 9 = 45 6 * 9 = 54 7 * 9 = 63 8 * 9 = 72 9 * 9 = 81 "
     ]
    }
   ],
   "source": [
    "for i in range (1,10):\n",
    "\n",
    "    print('\\n')\n",
    "    for j in range(2,10) :\n",
    "        print (str(j) + ' * ' + str(i) + ' = ' +str(i*j),end = ' ')"
   ]
  },
  {
   "cell_type": "markdown",
   "id": "be1d8266",
   "metadata": {},
   "source": [
    "문제11"
   ]
  },
  {
   "cell_type": "code",
   "execution_count": 2,
   "id": "9ea8c4c5",
   "metadata": {},
   "outputs": [
    {
     "name": "stdout",
     "output_type": "stream",
     "text": [
      "Input an Integer: 3159\n",
      "***\n",
      "*\n",
      "*****\n",
      "*********\n"
     ]
    }
   ],
   "source": [
    "x = input('Input an Integer: ')\n",
    "i = 0;\n",
    "while(i < 4):\n",
    "    print('*' * int(x[i:i+1]))\n",
    "    i+=1\n"
   ]
  },
  {
   "cell_type": "markdown",
   "id": "4c1c4a57",
   "metadata": {},
   "source": [
    "문제12"
   ]
  },
  {
   "cell_type": "code",
   "execution_count": 1,
   "id": "8dd51009",
   "metadata": {},
   "outputs": [
    {
     "name": "stdout",
     "output_type": "stream",
     "text": [
      "Enter a number: 7\n",
      "Enter a number: 2\n",
      "Enter a number: 9\n",
      "Enter a number: 3\n",
      "Enter a number: 5\n",
      "Enter a number: done\n",
      "[7.0, 2.0, 9.0, 3.0, 5.0]\n",
      "Average:5.2\n",
      "Maximum:9.0\n",
      "Minimum:2.0\n"
     ]
    }
   ],
   "source": [
    "y=list()\n",
    "while(True):\n",
    "    x = (input('Enter a number: '))\n",
    "    if(x=='done'):\n",
    "        break\n",
    "    else :\n",
    "        y.append(float(x)) \n",
    "print(y)\n",
    "print(\"Average:\" + str(sum(y)/len(y)))\n",
    "print(\"Maximum:\" + str(max(y)))\n",
    "print(\"Minimum:\" + str(min(y)))"
   ]
  },
  {
   "cell_type": "code",
   "execution_count": null,
   "id": "7d8bc521",
   "metadata": {},
   "outputs": [],
   "source": []
  }
 ],
 "metadata": {
  "kernelspec": {
   "display_name": "Python 3 (ipykernel)",
   "language": "python",
   "name": "python3"
  },
  "language_info": {
   "codemirror_mode": {
    "name": "ipython",
    "version": 3
   },
   "file_extension": ".py",
   "mimetype": "text/x-python",
   "name": "python",
   "nbconvert_exporter": "python",
   "pygments_lexer": "ipython3",
   "version": "3.9.12"
  }
 },
 "nbformat": 4,
 "nbformat_minor": 5
}
