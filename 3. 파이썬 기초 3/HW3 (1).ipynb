{
 "cells": [
  {
   "cell_type": "markdown",
   "id": "6f0c176a",
   "metadata": {},
   "source": [
    "# 파이썬 프로그래밍 기초 실습 3\n",
    "\n",
    "## 연습문제"
   ]
  },
  {
   "cell_type": "markdown",
   "id": "903499d6",
   "metadata": {},
   "source": [
    "1. 딕셔너리(dict)  \n",
    "\n",
    "중괄호{ }로 묶여 있으며, key와 value의 쌍으로 이루어짐. d = {key1:value1, key2:value2}  \n",
    "\n",
    "문제1) for 문을 사용하여 딕셔너리 타입의 d의 모든 value를 출력해 보시오.  "
   ]
  },
  {
   "cell_type": "code",
   "execution_count": 4,
   "id": "589705b3",
   "metadata": {},
   "outputs": [
    {
     "name": "stdout",
     "output_type": "stream",
     "text": [
      "1 2 10 "
     ]
    }
   ],
   "source": [
    "d = {'youn': 1, 'park': 2, 'kim': 10}\n",
    "for i in d.values() :\n",
    "    print(i, end=' ')"
   ]
  },
  {
   "cell_type": "markdown",
   "id": "4b528d36",
   "metadata": {},
   "source": [
    "문제2) 아래와 같은 딕셔너리가 있다.  \n",
    "\n",
    "{'one':1, 'two':2, 'three':3, 'four':4, 'five':5}  \n",
    "key의 알파벳을 기준으로 순서대로 아래와 같이 (key,value)로 출력하시오."
   ]
  },
  {
   "cell_type": "code",
   "execution_count": 7,
   "id": "3f7e980a",
   "metadata": {},
   "outputs": [
    {
     "name": "stdout",
     "output_type": "stream",
     "text": [
      "five 5\n",
      "four 4\n",
      "one 1\n",
      "three 3\n",
      "two 2\n"
     ]
    }
   ],
   "source": [
    "d = {'one':1, 'two':2, 'three':3, 'four':4, 'five':5}\n",
    "d2 = sorted(d.items())\n",
    "for key , value in d2 :\n",
    "    print(key,value)"
   ]
  },
  {
   "cell_type": "markdown",
   "id": "45cb62b5",
   "metadata": {},
   "source": [
    "문제3) – PPT 문제  \n",
    "\n",
    "어떤 문장을 입력 받으면 해당 문장에서 각 문자가 몇개씩 나오는지 저장하는 딕셔너리를 만든 후, 아래와 같\n",
    "이 출력하시오."
   ]
  },
  {
   "cell_type": "code",
   "execution_count": 8,
   "id": "a35d764c",
   "metadata": {},
   "outputs": [
    {
     "name": "stdout",
     "output_type": "stream",
     "text": [
      "Enter a sentence: Python is fun!\n",
      "{'P': 1, 'y': 1, 't': 1, 'h': 1, 'o': 1, 'n': 2, ' ': 2, 'i': 1, 's': 1, 'f': 1, 'u': 1, '!': 1}\n"
     ]
    }
   ],
   "source": [
    "x = input('Enter a sentence: ')\n",
    "y = dict()\n",
    "for i in x :\n",
    "    if i in y :\n",
    "        y[i] += 1\n",
    "    if i not in y :\n",
    "        y[i] = 1\n",
    "print(y)"
   ]
  },
  {
   "cell_type": "markdown",
   "id": "1c1abf44",
   "metadata": {},
   "source": [
    "문제4) 학생의 이름과 점수를 가지고 있는 딕셔너리가 있을 때, 최고점과 최저점, 평균을 출력하는 프로그램을\n",
    "작성하시오."
   ]
  },
  {
   "cell_type": "code",
   "execution_count": 21,
   "id": "cea0b625",
   "metadata": {},
   "outputs": [
    {
     "name": "stdout",
     "output_type": "stream",
     "text": [
      "81.0\n",
      "Highest: 150\n",
      "Lowest: 20\n",
      "Average: 81.0\n"
     ]
    }
   ],
   "source": [
    "score = {'iu':100, 'heize': 70, 'zico':65, 'ailee':150,'rain': 20}\n",
    "num_H = 0\n",
    "num_L = 10000 \n",
    "num_A = 0\n",
    "for i in score.values() :\n",
    "    if i > num_H :\n",
    "        num_H = i\n",
    "    if i < num_L :\n",
    "        num_L = i\n",
    "    num_A += i \n",
    "num_AA = num_A/len(score)\n",
    "print('Highest: '+ str(num_H))\n",
    "print('Lowest: ' + str(num_L))\n",
    "print('Average: ' + str(num_AA))"
   ]
  },
  {
   "cell_type": "markdown",
   "id": "7e38cc7a",
   "metadata": {},
   "source": [
    "문제 5) 자판기 재고량을 아래와 같이 딕셔너리로 관리할 때, 자판기에 채울 음료를 입력 받아서 재고량을 증가시키는 자판기 관리 프로그램을 완성하시오. (아래 실행 예제 2개가 하나의 코드로 실행되도록 작성할 것.)"
   ]
  },
  {
   "cell_type": "code",
   "execution_count": 35,
   "id": "988e229c",
   "metadata": {},
   "outputs": [
    {
     "name": "stdout",
     "output_type": "stream",
     "text": [
      "채울 음료 이름 입력: 포도주스\n",
      "자판기 목록에 없는 음료입니다.\n"
     ]
    }
   ],
   "source": [
    "items = { \"커피\": 5, \"콜라\": 3, \"생수\": 2,\"비타민워터\": 1 }\n",
    "item = input(\"채울 음료 이름 입력: \")\n",
    "check = 0\n",
    "for key, value in items.items():\n",
    "    if(key == item) :\n",
    "        cnt = int(input(\"추가할 개수 입력:  \"))\n",
    "        items[key] += cnt\n",
    "        check += 1\n",
    "if(check==1):\n",
    "    print(items)\n",
    "else:\n",
    "    print('자판기 목록에 없는 음료입니다.')"
   ]
  },
  {
   "cell_type": "markdown",
   "id": "799169e6",
   "metadata": {},
   "source": [
    "문제 6) 리스트 문제  \n",
    "프로그래밍 수업을 듣는 수강생 이름으로 이루어진 리스트 Names가 아래와 같이 있을 때, 수강생 이름을 입력 받아 프로그래밍 수강생인지 알아보는 프로그램을 완성하시오."
   ]
  },
  {
   "cell_type": "code",
   "execution_count": 40,
   "id": "44aeaace",
   "metadata": {},
   "outputs": [
    {
     "name": "stdout",
     "output_type": "stream",
     "text": [
      "수강생 이름 입력: 호랑이\n",
      "프로그래밍 수강생이 아닙니다.\n"
     ]
    }
   ],
   "source": [
    "Names = [\"포닉스\", \"넙죽이\", \"클로바\",\"독수리\"]\n",
    "x = input(\"수강생 이름 입력: \")\n",
    "check = 0\n",
    "for i in Names:\n",
    "    if(x == i) :\n",
    "        print('프로그래밍 수강생입니다.')\n",
    "        check += 1\n",
    "if(check == 0): \n",
    "    print('프로그래밍 수강생이 아닙니다.')\n",
    "    "
   ]
  }
 ],
 "metadata": {
  "kernelspec": {
   "display_name": "Python 3 (ipykernel)",
   "language": "python",
   "name": "python3"
  },
  "language_info": {
   "codemirror_mode": {
    "name": "ipython",
    "version": 3
   },
   "file_extension": ".py",
   "mimetype": "text/x-python",
   "name": "python",
   "nbconvert_exporter": "python",
   "pygments_lexer": "ipython3",
   "version": "3.9.12"
  }
 },
 "nbformat": 4,
 "nbformat_minor": 5
}
