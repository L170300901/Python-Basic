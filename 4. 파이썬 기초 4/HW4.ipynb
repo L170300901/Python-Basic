{
 "cells": [
  {
   "cell_type": "markdown",
   "id": "63459a5a",
   "metadata": {},
   "source": [
    "실습 7"
   ]
  },
  {
   "cell_type": "code",
   "execution_count": 1,
   "id": "5de90ed2",
   "metadata": {},
   "outputs": [
    {
     "name": "stdout",
     "output_type": "stream",
     "text": [
      "1\n",
      "9\n",
      "[3, 5, 2]\n"
     ]
    }
   ],
   "source": [
    "def get_min_max(l):\n",
    "    x = sorted(l)\n",
    "    l.remove(x[0])\n",
    "    l.remove(x[-1])\n",
    "    return x[0],x[-1]\n",
    "\n",
    "l = [3, 5, 9, 1, 2]\n",
    "min_val, max_val = get_min_max(l)\n",
    "\n",
    "print(min_val)\n",
    "print(max_val)\n",
    "print(l)"
   ]
  },
  {
   "cell_type": "code",
   "execution_count": null,
   "id": "d8f211fe",
   "metadata": {},
   "outputs": [],
   "source": [
    "실습 8"
   ]
  },
  {
   "cell_type": "code",
   "execution_count": 4,
   "id": "e744ae82",
   "metadata": {},
   "outputs": [
    {
     "name": "stdout",
     "output_type": "stream",
     "text": [
      "a\n",
      "b\n",
      "d\n",
      "e\n",
      "{'a': 3, 'b': 3, 'c': 4, 'd': 7, 'e': 9}\n"
     ]
    }
   ],
   "source": [
    "def comb_dict(d1, d2):\n",
    "    y = dict()\n",
    "    for i in d1 :\n",
    "        if i not in y :\n",
    "            y[i] = d1[i]\n",
    "    for i in d2 :\n",
    "        if i in y :\n",
    "            y[i] += d2[i]\n",
    "        if i not in y :\n",
    "            y[i] = d2[i]\n",
    "    return dict(sorted(y.items()))\n",
    "                \n",
    "d1 = {'a': 1, 'b': 3, 'd': 7, 'e': 8}\n",
    "d2 = {'a': 2, 'c': 4, 'e': 1}\n",
    "d3 = comb_dict(d1, d2)\n",
    "print(d3)"
   ]
  },
  {
   "cell_type": "code",
   "execution_count": null,
   "id": "b7166a6e",
   "metadata": {},
   "outputs": [],
   "source": [
    "실습 9"
   ]
  },
  {
   "cell_type": "code",
   "execution_count": 12,
   "id": "53f57f09",
   "metadata": {},
   "outputs": [
    {
     "name": "stdout",
     "output_type": "stream",
     "text": [
      "4\n",
      "300\n"
     ]
    },
    {
     "ename": "TypeError",
     "evalue": "diff() missing 1 required positional argument: 'b'",
     "output_type": "error",
     "traceback": [
      "\u001b[0;31m---------------------------------------------------------------------------\u001b[0m",
      "\u001b[0;31mTypeError\u001b[0m                                 Traceback (most recent call last)",
      "Input \u001b[0;32mIn [12]\u001b[0m, in \u001b[0;36m<cell line: 12>\u001b[0;34m()\u001b[0m\n\u001b[1;32m     10\u001b[0m \u001b[38;5;28mprint\u001b[39m(diff(\u001b[38;5;241m1\u001b[39m,\u001b[38;5;241m2\u001b[39m,\u001b[38;5;241m3\u001b[39m,\u001b[38;5;241m4\u001b[39m,\u001b[38;5;241m5\u001b[39m))\n\u001b[1;32m     11\u001b[0m \u001b[38;5;28mprint\u001b[39m(diff(\u001b[38;5;241m-\u001b[39m\u001b[38;5;241m100\u001b[39m, \u001b[38;5;241m200\u001b[39m))\n\u001b[0;32m---> 12\u001b[0m \u001b[43mdiff\u001b[49m\u001b[43m(\u001b[49m\u001b[38;5;241;43m1\u001b[39;49m\u001b[43m)\u001b[49m\n",
      "\u001b[0;31mTypeError\u001b[0m: diff() missing 1 required positional argument: 'b'"
     ]
    }
   ],
   "source": [
    "def diff(a,b,*num):\n",
    "    x = list()\n",
    "    x.append(a)\n",
    "    x.append(b)\n",
    "    for i in num:\n",
    "        x.append(i)\n",
    "    x = sorted(x)\n",
    "    #print(x)\n",
    "    return (x[-1] - x[0])\n",
    "print(diff(1,2,3,4,5))\n",
    "print(diff(-100, 200))\n",
    "diff(1) # 오류발생!"
   ]
  },
  {
   "cell_type": "code",
   "execution_count": null,
   "id": "a87cdbe1",
   "metadata": {},
   "outputs": [],
   "source": []
  }
 ],
 "metadata": {
  "kernelspec": {
   "display_name": "Python 3 (ipykernel)",
   "language": "python",
   "name": "python3"
  },
  "language_info": {
   "codemirror_mode": {
    "name": "ipython",
    "version": 3
   },
   "file_extension": ".py",
   "mimetype": "text/x-python",
   "name": "python",
   "nbconvert_exporter": "python",
   "pygments_lexer": "ipython3",
   "version": "3.9.12"
  }
 },
 "nbformat": 4,
 "nbformat_minor": 5
}
