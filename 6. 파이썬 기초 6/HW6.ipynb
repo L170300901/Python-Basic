{
 "cells": [
  {
   "cell_type": "code",
   "execution_count": 1,
   "metadata": {},
   "outputs": [],
   "source": [
    "class Set:\n",
    "    def __init__(self, l2=[]):\n",
    "        l = []\n",
    "        self.l = l\n",
    "        self.l2 = l2\n",
    "        for i in self.l2:\n",
    "            if i not in self.l :\n",
    "                self.l.append(i)\n",
    "            else :\n",
    "                pass\n",
    "\n",
    "            # for j in range(1,self.l.count(i)):\n",
    "            #     self.self.l.remove(i)\n",
    "\n",
    "    def __str__(self):\n",
    "        x =  str(self.l)\n",
    "        x = x.replace('[', '{', 1)\n",
    "        x = x.replace(']', '}', 1)\n",
    "        return x\n",
    "    def add(self, elem):\n",
    "        for i in self.l :\n",
    "            if i == elem : \n",
    "                return \n",
    "        self.l.append(elem)\n",
    "        return Set(self.l)\n",
    "    def discard (self, elem):\n",
    "        self.l.remove(elem)\n",
    "    def clear(self):\n",
    "        self.l=[]\n",
    "    def __len__(self):\n",
    "        return len(self.l)\n",
    "    def __contains__(self,elem):\n",
    "        if elem in self.l:\n",
    "            return True\n",
    "        else:\n",
    "            return False\n",
    "    # self <= other\n",
    "    # self가 other의 부분집합이면 참 반환, 아니면 거짓 반환\n",
    "    def __le__(self,other):\n",
    "        cnt =0\n",
    "        for i in self.l:\n",
    "            if(i in other.l):\n",
    "                cnt += 1\n",
    "        if(cnt == len(self.l) or cnt > len(self.l)):\n",
    "            return True\n",
    "        else:\n",
    "            return False\n",
    "    # self >= other\n",
    "    # other가 self의 부분집합이면 참 반환, 아니면 거짓 반환\n",
    "    def __ge__(self,other):\n",
    "        cnt =0\n",
    "        for i in other.l:\n",
    "            if(i in self.l):\n",
    "                cnt += 1\n",
    "        if(cnt == len(other.l) or cnt > len(other.l)):\n",
    "            return True\n",
    "        else:\n",
    "            return False\n",
    "    # self | other 합집합 \n",
    "    def __or__(self,other):\n",
    "        x = (self.l)+(other.l)\n",
    "        return Set(x)\n",
    "    # self & other 교집합 \n",
    "    def __and__(self,other):\n",
    "        x = []\n",
    "        for i in self.l:\n",
    "            for j in other.l:\n",
    "                if i == j:\n",
    "                    x.append(i)\n",
    "        return Set(x)\n",
    "    # self - other\n",
    "    def __sub__(self,other):\n",
    "        x = self.l\n",
    "        for i in other.l:\n",
    "            for j in self.l:\n",
    "                if(i == j):\n",
    "                    x.remove(i)\n",
    "        return Set(x)\n",
    "    def __ior__(self,other):\n",
    "        x = (self.l)+(other.l)\n",
    "        l = []\n",
    "        for i in x:\n",
    "            if i not in l :\n",
    "                l.append(i)\n",
    "            else :\n",
    "                pass\n",
    "        self.l = l\n",
    "        return self\n",
    "    def __iand__(self,other):\n",
    "        x = []\n",
    "        for i in self.l:\n",
    "            for j in other.l:\n",
    "                if i == j:\n",
    "                    x.append(i)\n",
    "        self.l = x\n",
    "        return self\n",
    "    def __isub__(self,other):\n",
    "        x = self.l\n",
    "        for i in other.l:\n",
    "            for j in self.l:\n",
    "                if(i == j):\n",
    "                    x.remove(i)\n",
    "        self.l = x\n",
    "        return self\n",
    "    \n"
   ]
  },
  {
   "cell_type": "code",
   "execution_count": 2,
   "metadata": {},
   "outputs": [],
   "source": [
    "a = Set([1,2,3,4])\n",
    "b = Set([1,2,3,4])"
   ]
  },
  {
   "cell_type": "code",
   "execution_count": 3,
   "metadata": {},
   "outputs": [
    {
     "name": "stdout",
     "output_type": "stream",
     "text": [
      "{1, 2, 3, 4}\n",
      "{1, 2, 3, 4}\n",
      "\n"
     ]
    }
   ],
   "source": [
    "print(a)\n",
    "print(b)\n",
    "print()"
   ]
  },
  {
   "cell_type": "code",
   "execution_count": 4,
   "metadata": {},
   "outputs": [
    {
     "name": "stdout",
     "output_type": "stream",
     "text": [
      "{1, 2, 3}\n",
      "{2, 3, 4}\n",
      "\n"
     ]
    }
   ],
   "source": [
    "a.discard(4)\n",
    "b.discard(1)\n",
    "print(a)\n",
    "print(b)\n",
    "print()"
   ]
  },
  {
   "cell_type": "code",
   "execution_count": 5,
   "metadata": {},
   "outputs": [
    {
     "name": "stdout",
     "output_type": "stream",
     "text": [
      "3\n",
      "True\n",
      "False\n",
      "\n"
     ]
    }
   ],
   "source": [
    "print(len(a))\n",
    "print(1 in a)\n",
    "print(1 in b)\n",
    "print()"
   ]
  },
  {
   "cell_type": "code",
   "execution_count": 6,
   "metadata": {},
   "outputs": [
    {
     "name": "stdout",
     "output_type": "stream",
     "text": [
      "{1, 2, 3, 4}\n",
      "{2, 3}\n",
      "{1}\n",
      "\n"
     ]
    }
   ],
   "source": [
    "print(a | b)\n",
    "print(a & b)\n",
    "print(a - b)\n",
    "print()"
   ]
  },
  {
   "cell_type": "code",
   "execution_count": 7,
   "metadata": {},
   "outputs": [
    {
     "name": "stdout",
     "output_type": "stream",
     "text": [
      "False\n",
      "True\n",
      "False\n",
      "True\n",
      "\n"
     ]
    }
   ],
   "source": [
    "print(a <= b)\n",
    "print(a <= a | b)\n",
    "print(a >= b)\n",
    "print(a >= a & b)\n",
    "print()"
   ]
  },
  {
   "cell_type": "code",
   "execution_count": 8,
   "metadata": {},
   "outputs": [
    {
     "name": "stdout",
     "output_type": "stream",
     "text": [
      "{}\n",
      "\n"
     ]
    }
   ],
   "source": [
    "b.clear()\n",
    "print(b)\n",
    "print()"
   ]
  },
  {
   "cell_type": "code",
   "execution_count": 9,
   "metadata": {},
   "outputs": [
    {
     "name": "stdout",
     "output_type": "stream",
     "text": [
      "{1, 2, 3}\n",
      "{3, 4}\n"
     ]
    }
   ],
   "source": [
    "a = Set([1,2,3])\n",
    "b = Set([3,4])\n",
    "print(a)\n",
    "print(b)\n"
   ]
  },
  {
   "cell_type": "code",
   "execution_count": 10,
   "metadata": {},
   "outputs": [],
   "source": [
    "address_a = id(a)"
   ]
  },
  {
   "cell_type": "code",
   "execution_count": 11,
   "metadata": {},
   "outputs": [],
   "source": [
    "a |= b"
   ]
  },
  {
   "cell_type": "code",
   "execution_count": 12,
   "metadata": {},
   "outputs": [
    {
     "name": "stdout",
     "output_type": "stream",
     "text": [
      "{1, 2, 3, 4}\n",
      "True\n",
      "\n"
     ]
    }
   ],
   "source": [
    "print(a)\n",
    "print(address_a == id(a))\n",
    "print()"
   ]
  },
  {
   "cell_type": "code",
   "execution_count": 13,
   "metadata": {},
   "outputs": [
    {
     "name": "stdout",
     "output_type": "stream",
     "text": [
      "{1, 2, 3}\n",
      "{3, 4}\n"
     ]
    }
   ],
   "source": [
    "a = Set([1,2,3])\n",
    "b = Set([3,4])\n",
    "print(a)\n",
    "print(b)"
   ]
  },
  {
   "cell_type": "code",
   "execution_count": 14,
   "metadata": {},
   "outputs": [],
   "source": [
    "address_a = id(a)"
   ]
  },
  {
   "cell_type": "code",
   "execution_count": 15,
   "metadata": {},
   "outputs": [],
   "source": [
    "a &= b"
   ]
  },
  {
   "cell_type": "code",
   "execution_count": 16,
   "metadata": {},
   "outputs": [
    {
     "name": "stdout",
     "output_type": "stream",
     "text": [
      "{3}\n",
      "True\n",
      "\n"
     ]
    }
   ],
   "source": [
    "print(a)\n",
    "print(address_a == id(a))\n",
    "print()"
   ]
  },
  {
   "cell_type": "code",
   "execution_count": 17,
   "metadata": {},
   "outputs": [
    {
     "name": "stdout",
     "output_type": "stream",
     "text": [
      "{1, 2, 3}\n",
      "{3, 4}\n"
     ]
    }
   ],
   "source": [
    "a = Set([1,2,3])\n",
    "b = Set([3,4])\n",
    "print(a)\n",
    "print(b)"
   ]
  },
  {
   "cell_type": "code",
   "execution_count": 18,
   "metadata": {},
   "outputs": [],
   "source": [
    "address_a = id(a)"
   ]
  },
  {
   "cell_type": "code",
   "execution_count": 19,
   "metadata": {},
   "outputs": [
    {
     "ename": "TypeError",
     "evalue": "'Set' object is not iterable",
     "output_type": "error",
     "traceback": [
      "\u001b[1;31m---------------------------------------------------------------------------\u001b[0m",
      "\u001b[1;31mTypeError\u001b[0m                                 Traceback (most recent call last)",
      "\u001b[1;32mc:\\Users\\NOH TAEYUN\\Desktop\\Workplace\\HW6.ipynb 셀 19\u001b[0m in \u001b[0;36m<cell line: 1>\u001b[1;34m()\u001b[0m\n\u001b[1;32m----> <a href='vscode-notebook-cell:/c%3A/Users/NOH%20TAEYUN/Desktop/Workplace/HW6.ipynb#X35sZmlsZQ%3D%3D?line=0'>1</a>\u001b[0m a \u001b[39m-\u001b[39m\u001b[39m=\u001b[39m b\n",
      "\u001b[1;32mc:\\Users\\NOH TAEYUN\\Desktop\\Workplace\\HW6.ipynb 셀 19\u001b[0m in \u001b[0;36mSet.__isub__\u001b[1;34m(self, other)\u001b[0m\n\u001b[0;32m    <a href='vscode-notebook-cell:/c%3A/Users/NOH%20TAEYUN/Desktop/Workplace/HW6.ipynb#X35sZmlsZQ%3D%3D?line=101'>102</a>\u001b[0m             x\u001b[39m.\u001b[39mremove(i)\n\u001b[0;32m    <a href='vscode-notebook-cell:/c%3A/Users/NOH%20TAEYUN/Desktop/Workplace/HW6.ipynb#X35sZmlsZQ%3D%3D?line=102'>103</a>\u001b[0m \u001b[39mself\u001b[39m\u001b[39m.\u001b[39ml \u001b[39m=\u001b[39m x\n\u001b[1;32m--> <a href='vscode-notebook-cell:/c%3A/Users/NOH%20TAEYUN/Desktop/Workplace/HW6.ipynb#X35sZmlsZQ%3D%3D?line=103'>104</a>\u001b[0m \u001b[39mreturn\u001b[39;00m Set(\u001b[39mself\u001b[39;49m)\n",
      "\u001b[1;32mc:\\Users\\NOH TAEYUN\\Desktop\\Workplace\\HW6.ipynb 셀 19\u001b[0m in \u001b[0;36mSet.__init__\u001b[1;34m(self, l2)\u001b[0m\n\u001b[0;32m      <a href='vscode-notebook-cell:/c%3A/Users/NOH%20TAEYUN/Desktop/Workplace/HW6.ipynb#X35sZmlsZQ%3D%3D?line=3'>4</a>\u001b[0m \u001b[39mself\u001b[39m\u001b[39m.\u001b[39ml \u001b[39m=\u001b[39m l\n\u001b[0;32m      <a href='vscode-notebook-cell:/c%3A/Users/NOH%20TAEYUN/Desktop/Workplace/HW6.ipynb#X35sZmlsZQ%3D%3D?line=4'>5</a>\u001b[0m \u001b[39mself\u001b[39m\u001b[39m.\u001b[39ml2 \u001b[39m=\u001b[39m l2\n\u001b[1;32m----> <a href='vscode-notebook-cell:/c%3A/Users/NOH%20TAEYUN/Desktop/Workplace/HW6.ipynb#X35sZmlsZQ%3D%3D?line=5'>6</a>\u001b[0m \u001b[39mfor\u001b[39;00m i \u001b[39min\u001b[39;00m \u001b[39mself\u001b[39m\u001b[39m.\u001b[39ml2:\n\u001b[0;32m      <a href='vscode-notebook-cell:/c%3A/Users/NOH%20TAEYUN/Desktop/Workplace/HW6.ipynb#X35sZmlsZQ%3D%3D?line=6'>7</a>\u001b[0m     \u001b[39mif\u001b[39;00m i \u001b[39mnot\u001b[39;00m \u001b[39min\u001b[39;00m \u001b[39mself\u001b[39m\u001b[39m.\u001b[39ml :\n\u001b[0;32m      <a href='vscode-notebook-cell:/c%3A/Users/NOH%20TAEYUN/Desktop/Workplace/HW6.ipynb#X35sZmlsZQ%3D%3D?line=7'>8</a>\u001b[0m         \u001b[39mself\u001b[39m\u001b[39m.\u001b[39ml\u001b[39m.\u001b[39mappend(i)\n",
      "\u001b[1;31mTypeError\u001b[0m: 'Set' object is not iterable"
     ]
    }
   ],
   "source": [
    "a -= b"
   ]
  },
  {
   "cell_type": "code",
   "execution_count": null,
   "metadata": {},
   "outputs": [],
   "source": [
    "print(a)\n",
    "print(address_a == id(a))\n",
    "print()"
   ]
  }
 ],
 "metadata": {
  "kernelspec": {
   "display_name": "Python 3.10.5 64-bit",
   "language": "python",
   "name": "python3"
  },
  "language_info": {
   "codemirror_mode": {
    "name": "ipython",
    "version": 3
   },
   "file_extension": ".py",
   "mimetype": "text/x-python",
   "name": "python",
   "nbconvert_exporter": "python",
   "pygments_lexer": "ipython3",
   "version": "3.10.5"
  },
  "orig_nbformat": 4,
  "vscode": {
   "interpreter": {
    "hash": "e2ab4699a82da9ada95853d3c0abb8d0fd7cf10101d98483eced78fe436a9538"
   }
  }
 },
 "nbformat": 4,
 "nbformat_minor": 2
}
