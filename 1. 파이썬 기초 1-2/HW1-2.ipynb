{
 "cells": [
  {
   "cell_type": "markdown",
   "id": "b4ebe105",
   "metadata": {},
   "source": [
    "# 파이썬 프로그래밍 기초 실습 1-2   \n",
    "\n",
    "## 연습문제\n"
   ]
  },
  {
   "cell_type": "markdown",
   "id": "a0c7e3d6",
   "metadata": {},
   "source": [
    "### 1. (문제 4)"
   ]
  },
  {
   "cell_type": "code",
   "execution_count": 1,
   "id": "3407a48f",
   "metadata": {},
   "outputs": [
    {
     "name": "stdout",
     "output_type": "stream",
     "text": [
      "Enter two integers: 8 5\n",
      "8 + 5 = 13\n",
      "8 - 5 =  3\n",
      "8 * 5 = 40\n",
      "8 / 5 =  1.6\n",
      "8 % 5 =  3\n"
     ]
    }
   ],
   "source": [
    "numbers = input('Enter two integers: ')\n",
    "x , y = numbers.split()\n",
    "print(x + ' + ' + y + ' = ' +str(int(x)+int(y)))\n",
    "print(x + ' - ' + y + ' = ' +' '+str(int(x)-int(y)))\n",
    "print(x + ' * ' + y + ' = ' +str(int(x)*int(y)))\n",
    "print(x + ' / ' + y + ' = ' +' '+str(int(x)/int(y)))\n",
    "print(x + ' % ' + y + ' = ' +' '+str(int(x)%int(y)))"
   ]
  },
  {
   "cell_type": "markdown",
   "id": "9d83b8c6",
   "metadata": {},
   "source": [
    "### 2. (문제 5)"
   ]
  },
  {
   "cell_type": "code",
   "execution_count": 2,
   "id": "d7f56504",
   "metadata": {},
   "outputs": [
    {
     "name": "stdout",
     "output_type": "stream",
     "text": [
      "Enter two integers: 70 91\n",
      "The sum of 70 and 91 is 161\n",
      "The average of numbers is 80.5\n"
     ]
    }
   ],
   "source": [
    "numbers = input('Enter two integers: ')\n",
    "x , y = numbers.split()\n",
    "z = int(x)+int(y)\n",
    "print('The sum of ' + x + ' and ' + y +' is ' + str(z))\n",
    "print('The average of numbers is '+str(z/2) )"
   ]
  },
  {
   "cell_type": "markdown",
   "id": "3b60cfa5",
   "metadata": {},
   "source": [
    "### 3. (문제 6)"
   ]
  },
  {
   "cell_type": "code",
   "execution_count": 3,
   "id": "7727a7cd",
   "metadata": {},
   "outputs": [
    {
     "name": "stdout",
     "output_type": "stream",
     "text": [
      "날짜(연/월/일)입력:2022/07/26\n",
      "입력한 날짜의 10년 후는 2032년 7월 26일\n"
     ]
    }
   ],
   "source": [
    "x = input('날짜(연/월/일)입력:')\n",
    "y = x.split('/')\n",
    "print('입력한 날짜의 10년 후는 '+ str(int(y[0])+10)+'년 '+(y[1])[1:] +'월 '+y[2] +'일')"
   ]
  }
 ],
 "metadata": {
  "kernelspec": {
   "display_name": "Python 3 (ipykernel)",
   "language": "python",
   "name": "python3"
  },
  "language_info": {
   "codemirror_mode": {
    "name": "ipython",
    "version": 3
   },
   "file_extension": ".py",
   "mimetype": "text/x-python",
   "name": "python",
   "nbconvert_exporter": "python",
   "pygments_lexer": "ipython3",
   "version": "3.9.12"
  }
 },
 "nbformat": 4,
 "nbformat_minor": 5
}
