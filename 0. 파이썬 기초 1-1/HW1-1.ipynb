{
 "cells": [
  {
   "cell_type": "markdown",
   "id": "430e592f",
   "metadata": {},
   "source": [
    "# 파이썬 프로그래밍 기초 실습 1-1  \n",
    "\n",
    "## 연습문제\n",
    "\n",
    "### 1. (문제 1)"
   ]
  },
  {
   "cell_type": "code",
   "execution_count": 64,
   "id": "52833be1",
   "metadata": {},
   "outputs": [
    {
     "name": "stdout",
     "output_type": "stream",
     "text": [
      "화씨온도:100\n",
      "섭씨온도 37.77777777777778\n"
     ]
    }
   ],
   "source": [
    "x = int(input('화씨온도:'))\n",
    "y = (x-32)*5/9\n",
    "print('섭씨온도',y)"
   ]
  },
  {
   "cell_type": "markdown",
   "id": "0172b411",
   "metadata": {},
   "source": [
    "### 2.(문제 2)"
   ]
  },
  {
   "cell_type": "code",
   "execution_count": 63,
   "id": "7b61e399",
   "metadata": {},
   "outputs": [
    {
     "name": "stdout",
     "output_type": "stream",
     "text": [
      "투입한 돈:5000\n",
      "물건값:2700\n",
      "거스름돈: 2300\n",
      "500원짜리:4개\n",
      "100원짜리:3개\n"
     ]
    }
   ],
   "source": [
    "x = int(input('투입한 돈:'))## 연습문제\n",
    "y = int(input('물건값:'))\n",
    "#잔돈-> z\n",
    "z = x - y\n",
    "print('거스름돈:',z)\n",
    "print('500원짜리:' + str(int(z / 500)) + '개')\n",
    "# 500원짜리 개수 -> z1\n",
    "z1 = int(z/500)\n",
    "print('100원짜리:'+ str(int((z - (z1 * 500)) / 100)) + '개')"
   ]
  },
  {
   "cell_type": "markdown",
   "id": "537dbb12",
   "metadata": {},
   "source": [
    "### 3. (문제 3)"
   ]
  },
  {
   "cell_type": "code",
   "execution_count": 22,
   "id": "230c974d",
   "metadata": {},
   "outputs": [
    {
     "name": "stdout",
     "output_type": "stream",
     "text": [
      "반지름을 입력하시오:5\n",
      "원 둘레: 31.42\n",
      "원 넓이: 78.54\n"
     ]
    }
   ],
   "source": [
    "x = int(input('반지름을 입력하시오:'))\n",
    "p = 3.141592\n",
    "y = 2 * p * x\n",
    "z = p * x * x\n",
    "print('원 둘레: %.2f'%y)\n",
    "print('원 넓이: %.2f'%z)"
   ]
  },
  {
   "cell_type": "markdown",
   "id": "289d548d",
   "metadata": {},
   "source": [
    "## 2. 따라 해보기"
   ]
  },
  {
   "cell_type": "code",
   "execution_count": 27,
   "id": "3e66790a",
   "metadata": {},
   "outputs": [
    {
     "data": {
      "text/plain": [
       "[0, 1, 2, 3, 4]"
      ]
     },
     "execution_count": 27,
     "metadata": {},
     "output_type": "execute_result"
    }
   ],
   "source": [
    "list(range(5))"
   ]
  },
  {
   "cell_type": "code",
   "execution_count": 28,
   "id": "f7681ebd",
   "metadata": {},
   "outputs": [
    {
     "data": {
      "text/plain": [
       "[1, 2, 3, 4, 5]"
      ]
     },
     "execution_count": 28,
     "metadata": {},
     "output_type": "execute_result"
    }
   ],
   "source": [
    "list(range(1,6))"
   ]
  },
  {
   "cell_type": "code",
   "execution_count": 30,
   "id": "b37193cc",
   "metadata": {},
   "outputs": [
    {
     "data": {
      "text/plain": [
       "[1, 3, 5]"
      ]
     },
     "execution_count": 30,
     "metadata": {},
     "output_type": "execute_result"
    }
   ],
   "source": [
    "list(range(1,7,2))"
   ]
  },
  {
   "cell_type": "markdown",
   "id": "7ca03b70",
   "metadata": {},
   "source": [
    "### 실습1) 1부터 10까지 리스트 생성"
   ]
  },
  {
   "cell_type": "code",
   "execution_count": 32,
   "id": "8d85254e",
   "metadata": {},
   "outputs": [
    {
     "data": {
      "text/plain": [
       "[1, 2, 3, 4, 5, 6, 7, 8, 9, 10]"
      ]
     },
     "execution_count": 32,
     "metadata": {},
     "output_type": "execute_result"
    }
   ],
   "source": [
    "list(range(1,11))"
   ]
  },
  {
   "cell_type": "markdown",
   "id": "8307747a",
   "metadata": {},
   "source": [
    "### 실습2) 10부터 1까지의 리스트 생성"
   ]
  },
  {
   "cell_type": "code",
   "execution_count": 45,
   "id": "3744c5b5",
   "metadata": {},
   "outputs": [
    {
     "data": {
      "text/plain": [
       "[10, 9, 8, 7, 6, 5, 4, 3, 2, 1]"
      ]
     },
     "execution_count": 45,
     "metadata": {},
     "output_type": "execute_result"
    }
   ],
   "source": [
    "list(range(10,0,-1))"
   ]
  },
  {
   "cell_type": "markdown",
   "id": "be1b37ec",
   "metadata": {},
   "source": [
    "### 실습3) 1부터 10까지의 짝수 리스트 생성"
   ]
  },
  {
   "cell_type": "code",
   "execution_count": 50,
   "id": "6064d2c3",
   "metadata": {},
   "outputs": [
    {
     "data": {
      "text/plain": [
       "[2, 4, 6, 8, 10]"
      ]
     },
     "execution_count": 50,
     "metadata": {},
     "output_type": "execute_result"
    }
   ],
   "source": [
    "event_list = list(range(2,11,2))\n",
    "event_list"
   ]
  },
  {
   "cell_type": "markdown",
   "id": "1a5c0906",
   "metadata": {},
   "source": [
    "### 실습4) 1부터 10까지의 홀수 리스트 생성"
   ]
  },
  {
   "cell_type": "code",
   "execution_count": 51,
   "id": "31751074",
   "metadata": {},
   "outputs": [
    {
     "data": {
      "text/plain": [
       "[1, 3, 5, 7, 9]"
      ]
     },
     "execution_count": 51,
     "metadata": {},
     "output_type": "execute_result"
    }
   ],
   "source": [
    "odd_list = list(range(1,11,2))\n",
    "odd_list "
   ]
  },
  {
   "cell_type": "markdown",
   "id": "b166e866",
   "metadata": {},
   "source": [
    "### 실습5) 리스트 더하기"
   ]
  },
  {
   "cell_type": "code",
   "execution_count": 52,
   "id": "70abebc2",
   "metadata": {},
   "outputs": [
    {
     "data": {
      "text/plain": [
       "[2, 4, 6, 8, 10, 1, 3, 5, 7, 9]"
      ]
     },
     "execution_count": 52,
     "metadata": {},
     "output_type": "execute_result"
    }
   ],
   "source": [
    "event_list + odd_list"
   ]
  }
 ],
 "metadata": {
  "kernelspec": {
   "display_name": "Python 3 (ipykernel)",
   "language": "python",
   "name": "python3"
  },
  "language_info": {
   "codemirror_mode": {
    "name": "ipython",
    "version": 3
   },
   "file_extension": ".py",
   "mimetype": "text/x-python",
   "name": "python",
   "nbconvert_exporter": "python",
   "pygments_lexer": "ipython3",
   "version": "3.9.12"
  }
 },
 "nbformat": 4,
 "nbformat_minor": 5
}
