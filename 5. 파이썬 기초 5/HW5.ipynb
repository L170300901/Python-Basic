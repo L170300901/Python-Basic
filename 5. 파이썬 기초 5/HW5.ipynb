{
 "cells": [
  {
   "cell_type": "markdown",
   "id": "726eeb0c",
   "metadata": {},
   "source": [
    "실습1\n",
    "\n"
   ]
  },
  {
   "cell_type": "code",
   "execution_count": 1,
   "id": "d5ebd0e5",
   "metadata": {},
   "outputs": [
    {
     "name": "stdout",
     "output_type": "stream",
     "text": [
      "first 1\n",
      "line 3\n",
      "second 1\n",
      "third 1\n"
     ]
    }
   ],
   "source": [
    "f = open('test.txt', 'r')\n",
    "d = dict()\n",
    "x = f.read()\n",
    "\n",
    "#print(x)\n",
    "for i in x:\n",
    "    y = x.split()\n",
    "#print(y)\n",
    "for i in y:\n",
    "    if i in d:\n",
    "        d[i] += 1\n",
    "    else:\n",
    "        d[i] = 1\n",
    "#print(d)\n",
    "for key, value in d.items():\n",
    "    print(key,value)"
   ]
  },
  {
   "cell_type": "markdown",
   "id": "bcab8aea",
   "metadata": {},
   "source": [
    "실습2\n",
    "\n"
   ]
  },
  {
   "cell_type": "code",
   "execution_count": null,
   "id": "cabc6ca4",
   "metadata": {},
   "outputs": [],
   "source": [
    "import os\n",
    "x = input('Enter a file name: ')\n",
    "if(os.path.isfile(x)):\n",
    "    f = open(x, 'r')\n",
    "    y = f.read()\n",
    "    for i in y:\n",
    "        print(i.upper(), end='')\n",
    "    f.close()\n",
    "else:\n",
    "    print('파일이 존재하지 않는다')\n",
    "\n"
   ]
  },
  {
   "cell_type": "markdown",
   "id": "0f691acc",
   "metadata": {},
   "source": [
    "실습 3"
   ]
  },
  {
   "cell_type": "code",
   "execution_count": 3,
   "id": "722ca81d",
   "metadata": {},
   "outputs": [],
   "source": [
    "def chong (x , y):\n",
    "    return (0.4 * x + 0.6 * y)\n",
    "f1 = open('score.txt', 'r')\n",
    "f2 = open('report.txt', 'w')\n",
    "d = dict()\n",
    "x = f1.read()\n",
    "def grade(x):\n",
    "    if x >= 90 :\n",
    "        return '(A)'\n",
    "    elif x >= 80 :\n",
    "        return '(B)'\n",
    "    elif x >= 70 :\n",
    "        return '(C)'\n",
    "    elif x >= 60 :\n",
    "        return '(D)'\n",
    "    else:\n",
    "        return '(F)'\n",
    "#print(x)\n",
    "list1 = []\n",
    "list2 =[]\n",
    "list3 =[]\n",
    "for i in x:\n",
    "    y = x.split()\n",
    "#print(y)\n",
    "cnt = 1\n",
    "for i in y:\n",
    "    if(cnt % 3 == 1):\n",
    "        list1.append(int(i))\n",
    "    elif(cnt % 3 ==2) :\n",
    "        list2.append(int(i))\n",
    "    else :\n",
    "        list3.append(int(i))\n",
    "    cnt += 1\n",
    "#print(list2)\n",
    "for i in range(0,len(list1)):\n",
    "    x = chong(list2[i],list3[i])\n",
    "\n",
    "    print(list1[i],list2[i],list3[i],x,grade(x),file= f2)\n",
    "    #print(x)\n",
    "\n",
    "f1.close()\n",
    "f2.close()"
   ]
  },
  {
   "cell_type": "code",
   "execution_count": null,
   "id": "326c47d7",
   "metadata": {},
   "outputs": [],
   "source": []
  }
 ],
 "metadata": {
  "kernelspec": {
   "display_name": "Python 3 (ipykernel)",
   "language": "python",
   "name": "python3"
  },
  "language_info": {
   "codemirror_mode": {
    "name": "ipython",
    "version": 3
   },
   "file_extension": ".py",
   "mimetype": "text/x-python",
   "name": "python",
   "nbconvert_exporter": "python",
   "pygments_lexer": "ipython3",
   "version": "3.9.12"
  }
 },
 "nbformat": 4,
 "nbformat_minor": 5
}
